{
 "cells": [
  {
   "cell_type": "code",
   "execution_count": 2,
   "metadata": {},
   "outputs": [
    {
     "ename": "ModuleNotFoundError",
     "evalue": "No module named 'mpl_toolkits.basemap'",
     "output_type": "error",
     "traceback": [
      "\u001b[0;31m---------------------------------------------------------------------------\u001b[0m",
      "\u001b[0;31mModuleNotFoundError\u001b[0m                       Traceback (most recent call last)",
      "Cell \u001b[0;32mIn[2], line 1\u001b[0m\n\u001b[0;32m----> 1\u001b[0m \u001b[39mfrom\u001b[39;00m \u001b[39mmpl_toolkits\u001b[39;00m\u001b[39m.\u001b[39;00m\u001b[39mbasemap\u001b[39;00m \u001b[39mimport\u001b[39;00m Basemap\n\u001b[1;32m      2\u001b[0m \u001b[39mimport\u001b[39;00m \u001b[39mnumpy\u001b[39;00m \u001b[39mas\u001b[39;00m \u001b[39mnp\u001b[39;00m\n\u001b[1;32m      3\u001b[0m \u001b[39mimport\u001b[39;00m \u001b[39mmatplotlib\u001b[39;00m\u001b[39m.\u001b[39;00m\u001b[39mpyplot\u001b[39;00m \u001b[39mas\u001b[39;00m \u001b[39mplt\u001b[39;00m\n",
      "\u001b[0;31mModuleNotFoundError\u001b[0m: No module named 'mpl_toolkits.basemap'"
     ]
    }
   ],
   "source": [
    "from mpl_toolkits.basemap import Basemap\n",
    "import numpy as np\n",
    "import matplotlib.pyplot as plt\n",
    "# read in topo data (on a regular lat/lon grid)\n",
    "etopo = np.loadtxt('etopo20data.gz')\n",
    "lons  = np.loadtxt('etopo20lons.gz')\n",
    "lats  = np.loadtxt('etopo20lats.gz')\n",
    "# create Basemap instance for Robinson projection.\n",
    "m = Basemap(projection='robin',lon_0=0.5*(lons[0]+lons[-1]))\n",
    " # compute map projection coordinates for lat/lon grid.\n",
    "x, y = m(*np.meshgrid(lons,lats))\n",
    " # make filled contour plot.\n",
    "cs = m.contourf(x,y,etopo,30,cmap=plt.cm.jet)\n",
    "m.drawcoastlines() # draw coastlines\n",
    "m.drawmapboundary() # draw a line around the map region\n",
    "m.drawparallels(np.arange(-90.,120.,30.),labels=[1,0,0,0]) # draw parallels\n",
    "m.drawmeridians(np.arange(0.,420.,60.),labels=[0,0,0,1]) # draw meridians\n",
    "plt.title('Robinson Projection') # add a title\n",
    "plt.show()"
   ]
  }
 ],
 "metadata": {
  "kernelspec": {
   "display_name": ".venv",
   "language": "python",
   "name": "python3"
  },
  "language_info": {
   "codemirror_mode": {
    "name": "ipython",
    "version": 3
   },
   "file_extension": ".py",
   "mimetype": "text/x-python",
   "name": "python",
   "nbconvert_exporter": "python",
   "pygments_lexer": "ipython3",
   "version": "3.9.8"
  },
  "orig_nbformat": 4
 },
 "nbformat": 4,
 "nbformat_minor": 2
}
